{
 "cells": [
  {
   "cell_type": "code",
   "execution_count": 1,
   "id": "67eac86a",
   "metadata": {},
   "outputs": [],
   "source": [
    "import numpy as np\n",
    "import pandas as pd\n",
    "from sklearn.model_selection import train_test_split\n",
    "import mchmm as mc\n",
    "# https://github.com/maximtrp/mchmm"
   ]
  },
  {
   "cell_type": "code",
   "execution_count": 2,
   "id": "26c073cb",
   "metadata": {},
   "outputs": [],
   "source": [
    "df = pd.read_csv('szczecin_sep_2009.txt', index_col=False, header=None)\n",
    "selected_cols = df[[1, 3, 4, 7, 11]]\n",
    "df = selected_cols.copy(deep=True)\n",
    "df.columns = ['temp', 'wilg', 'cisn', 'wiatr','stan']\n",
    "\n",
    "#temperatura (kolumna 2), wilgotność (kolumna 4), ciśnienie (kolumna 5),\n",
    "#prędkość wiatru (po dyskretyzacji) (kolumna 8)"
   ]
  },
  {
   "cell_type": "markdown",
   "id": "a97227ef",
   "metadata": {},
   "source": [
    "Zredukowanie liczby stanów pogodowych."
   ]
  },
  {
   "cell_type": "code",
   "execution_count": 3,
   "id": "f6950219",
   "metadata": {},
   "outputs": [],
   "source": [
    "df['wiatr'].replace({'Calm':1.0},  inplace=True)\n",
    "df = df[pd.to_numeric(df['wiatr'], errors='coerce').notnull()]\n",
    "\n",
    "def to_float_(x):\n",
    "    return float(x)\n",
    "\n",
    "df[\"wiatr\"] = df[\"wiatr\"].apply(to_float_)"
   ]
  },
  {
   "cell_type": "code",
   "execution_count": 4,
   "id": "7b37e683",
   "metadata": {},
   "outputs": [
    {
     "data": {
      "text/html": [
       "<div>\n",
       "<style scoped>\n",
       "    .dataframe tbody tr th:only-of-type {\n",
       "        vertical-align: middle;\n",
       "    }\n",
       "\n",
       "    .dataframe tbody tr th {\n",
       "        vertical-align: top;\n",
       "    }\n",
       "\n",
       "    .dataframe thead th {\n",
       "        text-align: right;\n",
       "    }\n",
       "</style>\n",
       "<table border=\"1\" class=\"dataframe\">\n",
       "  <thead>\n",
       "    <tr style=\"text-align: right;\">\n",
       "      <th></th>\n",
       "      <th>temp</th>\n",
       "      <th>wilg</th>\n",
       "      <th>cisn</th>\n",
       "      <th>wiatr</th>\n",
       "      <th>stan</th>\n",
       "    </tr>\n",
       "  </thead>\n",
       "  <tbody>\n",
       "    <tr>\n",
       "      <th>0</th>\n",
       "      <td>2</td>\n",
       "      <td>3</td>\n",
       "      <td>3</td>\n",
       "      <td>4</td>\n",
       "      <td>Clear</td>\n",
       "    </tr>\n",
       "    <tr>\n",
       "      <th>1</th>\n",
       "      <td>2</td>\n",
       "      <td>3</td>\n",
       "      <td>3</td>\n",
       "      <td>4</td>\n",
       "      <td>Clear</td>\n",
       "    </tr>\n",
       "    <tr>\n",
       "      <th>2</th>\n",
       "      <td>2</td>\n",
       "      <td>3</td>\n",
       "      <td>3</td>\n",
       "      <td>4</td>\n",
       "      <td>Clear</td>\n",
       "    </tr>\n",
       "  </tbody>\n",
       "</table>\n",
       "</div>"
      ],
      "text/plain": [
       "  temp wilg cisn wiatr   stan\n",
       "0    2    3    3     4  Clear\n",
       "1    2    3    3     4  Clear\n",
       "2    2    3    3     4  Clear"
      ]
     },
     "execution_count": 4,
     "metadata": {},
     "output_type": "execute_result"
    }
   ],
   "source": [
    "df['temp'] = pd.cut(df['temp'], bins=4, labels=[1, 2, 3, 4])\n",
    "df['wilg'] = pd.cut(df['wilg'], bins=4, labels=[1, 2, 3, 4])\n",
    "df['cisn'] = pd.cut(df['cisn'], bins=4, labels=[1, 2, 3, 4])\n",
    "df['wiatr'] = pd.cut(df['wiatr'], bins=4, labels=[1, 2, 3, 4])\n",
    "\n",
    "df.head(3)"
   ]
  },
  {
   "cell_type": "markdown",
   "id": "14550cdd",
   "metadata": {},
   "source": [
    "Podział na dane uczące, testujące"
   ]
  },
  {
   "cell_type": "code",
   "execution_count": 5,
   "id": "86170f19",
   "metadata": {},
   "outputs": [],
   "source": [
    "obserwacje = []\n",
    "for i in range(df.shape[0]):\n",
    "    xx = df.iloc[i][['temp','wilg','cisn' ,'wiatr']]\n",
    "    a = ''\n",
    "    for j in range(xx.shape[0]):        \n",
    "        a = a + (str(xx[j]))\n",
    "    obserwacje.append(a)\n",
    "\n",
    "T_ = [12, 24, 48]\n",
    "T = T_[0]\n",
    "\n",
    "Y_ = df['stan'].to_numpy()\n",
    "\n",
    "X = []\n",
    "Y = []\n",
    "\n",
    "i = T\n",
    "while i < len(obserwacje):\n",
    "    X.append(obserwacje[i-T:i])\n",
    "    Y.append(Y_[i])\n",
    "    i += T"
   ]
  },
  {
   "cell_type": "code",
   "execution_count": 6,
   "id": "be58b793",
   "metadata": {},
   "outputs": [],
   "source": [
    "X_train, X_test, y_train, y_test = train_test_split(\n",
    "    obserwacje,Y_, test_size=0.3, random_state=42)"
   ]
  },
  {
   "cell_type": "markdown",
   "id": "1a8b0bbd",
   "metadata": {},
   "source": [
    "## Viterbi"
   ]
  },
  {
   "cell_type": "markdown",
   "id": "bf623186",
   "metadata": {},
   "source": [
    "Stworzenie modelu"
   ]
  },
  {
   "cell_type": "code",
   "execution_count": 7,
   "id": "f9a17a40",
   "metadata": {},
   "outputs": [],
   "source": [
    "obs_seq, sts_seq = X_train, y_train\n",
    "\n",
    "a = mc.HiddenMarkovModel().from_seq(obs_seq, sts_seq)"
   ]
  },
  {
   "cell_type": "code",
   "execution_count": 8,
   "id": "062f986d",
   "metadata": {},
   "outputs": [],
   "source": [
    "#pd.DataFrame(a.ep, index=a.states, columns=a.observations)"
   ]
  },
  {
   "cell_type": "markdown",
   "id": "a02a3566",
   "metadata": {},
   "source": [
    "6. Przy użyciu algorytmu Viterbiego należy odkryć ukrytą ścieżkę stanów\n",
    "pogodowych (”Condition”) mając daną sekwencję obserwacji."
   ]
  },
  {
   "cell_type": "code",
   "execution_count": 9,
   "id": "d4241d36",
   "metadata": {},
   "outputs": [
    {
     "name": "stdout",
     "output_type": "stream",
     "text": [
      "Poprawne:  166 , łącznie:  420\n",
      "Poprawność:  39.523809523809526 %\n"
     ]
    }
   ],
   "source": [
    "liczba_iteracji = 0\n",
    "poprawne = 0\n",
    "\n",
    "i = T\n",
    "while i < len(X_test):\n",
    "    sek = X_test[i-T:i]\n",
    "    res = a.viterbi(sek)\n",
    "    popr = y_test[i-T:i]\n",
    "    for j in range(len(popr)):\n",
    "        if popr[j] == res[0][j]:\n",
    "            poprawne += 1\n",
    "    i += T\n",
    "    liczba_iteracji += 1\n",
    "\n",
    "print('Poprawne: ',poprawne, ', łącznie: ', liczba_iteracji*T)\n",
    "print('Poprawność: ', (poprawne * 100) / (liczba_iteracji * T), '%')"
   ]
  },
  {
   "cell_type": "markdown",
   "id": "0e105533",
   "metadata": {},
   "source": [
    "## Baum Welch"
   ]
  },
  {
   "cell_type": "code",
   "execution_count": 10,
   "id": "a74bc293",
   "metadata": {},
   "outputs": [],
   "source": [
    "a = mc.HiddenMarkovModel().from_baum_welch(X_train, df['stan'].unique() )"
   ]
  },
  {
   "cell_type": "code",
   "execution_count": 11,
   "id": "ff234513",
   "metadata": {},
   "outputs": [
    {
     "name": "stdout",
     "output_type": "stream",
     "text": [
      "Poprawne:  74 , łącznie:  420\n",
      "Poprawność:  17.61904761904762 %\n"
     ]
    }
   ],
   "source": [
    "liczba_iteracji = 0\n",
    "poprawne = 0\n",
    "\n",
    "i = T\n",
    "while i < len(X_test):\n",
    "    sek = X_test[i-T:i]\n",
    "    res = a.viterbi(sek)\n",
    "    popr = y_test[i-T:i]\n",
    "    for j in range(len(popr)):\n",
    "        if popr[j] == res[0][j]:\n",
    "            poprawne += 1\n",
    "    i += T\n",
    "    liczba_iteracji += 1\n",
    "\n",
    "print('Poprawne: ',poprawne, ', łącznie: ', liczba_iteracji*T)\n",
    "print('Poprawność: ', (poprawne * 100) / (liczba_iteracji * T), '%')"
   ]
  },
  {
   "cell_type": "markdown",
   "id": "f1083d66",
   "metadata": {},
   "source": [
    "# Wnioski\n",
    "\n",
    "Algorytm Bauma-Welscha jest mniej skuteczny niż Viterbi."
   ]
  }
 ],
 "metadata": {
  "kernelspec": {
   "display_name": "Python 3",
   "language": "python",
   "name": "python3"
  },
  "language_info": {
   "codemirror_mode": {
    "name": "ipython",
    "version": 3
   },
   "file_extension": ".py",
   "mimetype": "text/x-python",
   "name": "python",
   "nbconvert_exporter": "python",
   "pygments_lexer": "ipython3",
   "version": "3.8.8"
  }
 },
 "nbformat": 4,
 "nbformat_minor": 5
}
